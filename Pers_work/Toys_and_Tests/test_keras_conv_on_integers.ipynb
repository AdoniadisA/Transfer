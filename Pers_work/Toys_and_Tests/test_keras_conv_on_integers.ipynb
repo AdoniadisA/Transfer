{
 "cells": [
  {
   "cell_type": "code",
   "execution_count": null,
   "metadata": {},
   "outputs": [
    {
     "name": "stdout",
     "output_type": "stream",
     "text": [
      "signal conv\n",
      "[0 0 0 0 1]\n",
      "\n",
      "\n",
      "\n",
      "\n"
     ]
    },
    {
     "name": "stderr",
     "output_type": "stream",
     "text": [
      "/home/alexis/anaconda3/lib/python3.6/site-packages/h5py/__init__.py:36: FutureWarning: Conversion of the second argument of issubdtype from `float` to `np.floating` is deprecated. In future, it will be treated as `np.float64 == np.dtype(float).type`.\n",
      "  from ._conv import register_converters as _register_converters\n",
      "Using TensorFlow backend.\n"
     ]
    }
   ],
   "source": [
    "import scipy.io.wavfile as wavefile\n",
    "import scipy.signal as signal\n",
    "import numpy as np\n",
    "import matplotlib.pyplot as plt\n",
    "\n",
    "ONED = True\n",
    "num = 500\n",
    "\n",
    "if ONED:\n",
    "\ta = np.array([0,0,1,0,0])\n",
    "\tb = np.array([0,0,1])\n",
    "\tc = signal.convolve(a,b,mode=\"full\")\n",
    "\tc = c[0:len(a)]\n",
    "\tprint('signal conv')\n",
    "\tprint(c)\n",
    "\tprint('\\n\\n\\n')\n",
    "\n",
    "\tfrom keras.models import Sequential\n",
    "\tfrom keras.layers import Conv1D,Dense,Conv2D\n",
    "\tfrom keras.layers.advanced_activations import LeakyReLU\n",
    "\tfrom keras.constraints import non_neg\n",
    "\timport keras.initializers as initializers\n",
    "\n",
    "\tmodel = Sequential()\n",
    "\tlayer = Conv1D(input_shape=(len(a),1),filters=1,kernel_size=len(b),strides=1,\n",
    "\t                   padding='causal',kernel_initializer='random_uniform',dilation_rate=1,use_bias=False) #\n",
    "\n",
    "\tmodel.add(layer)\n",
    "\n",
    "\n",
    "\t#print(model.get_weights())\n",
    "\tweights = [np.atleast_3d(b).swapaxes(0,1)]\n",
    "\n",
    "\n",
    "\tlayer.set_weights(weights)\n",
    "\tmodel.compile(loss='mean_squared_error', optimizer='sgd')\n",
    "\n",
    "\ta_fed = np.atleast_3d(a)#.swapaxes(0,1)\n",
    "\tprint(a_fed)\n",
    "\tprint(weights)\n",
    "\tpredicted = model.predict(a_fed)\n",
    "\tprint(predicted)\n",
    "\n",
    "else:\n",
    "\tnbFbins = 3\n",
    "\tstft = np.random.rand(3,num)\n",
    "\tplt.imshow(stft,aspect='auto')\n",
    "\tplt.title('stft')\n",
    "\n",
    "\t### STRF ###\n",
    "\ttime_window = 4\n",
    "\tstrf = np.random.rand(nbFbins,time_window)\n",
    "\tplt.figure()\n",
    "\tplt.imshow(strf,aspect='auto')\n",
    "\tplt.title('strf')\n",
    "\t    \n",
    "\n",
    "\t### Convolution ###\n",
    "\n",
    "\tfor fbin in range(np.shape(stft)[0]):\n",
    "\t    #conved[fbin,:] = signal.convolve(stft[fbin,:],strf[fbin,:],method='direct',mode='same')\n",
    "\t    if fbin==0:\n",
    "\t        conved = signal.convolve(stft[fbin,:],strf[fbin,:],method='direct',mode='full')\n",
    "\t    else:\n",
    "\t        conved += signal.convolve(stft[fbin,:],strf[fbin,:],method='direct',mode='full')\n",
    "\n",
    "\n"
   ]
  }
 ],
 "metadata": {
  "kernelspec": {
   "display_name": "Python 3",
   "language": "python",
   "name": "python3"
  },
  "language_info": {
   "codemirror_mode": {
    "name": "ipython",
    "version": 3
   },
   "file_extension": ".py",
   "mimetype": "text/x-python",
   "name": "python",
   "nbconvert_exporter": "python",
   "pygments_lexer": "ipython3",
   "version": "3.6.4"
  }
 },
 "nbformat": 4,
 "nbformat_minor": 2
}
