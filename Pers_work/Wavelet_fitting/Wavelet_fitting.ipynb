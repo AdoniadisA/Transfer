{
 "cells": [
  {
   "cell_type": "code",
   "execution_count": 4,
   "metadata": {},
   "outputs": [
    {
     "name": "stdout",
     "output_type": "stream",
     "text": [
      "Cached stim: /auto/data/tmp/tstim/NaturalSounds-2-0.5-3-1-White______-100-0-3__8-65dB-ozgf-fs100-ch18-incps1.mat\n",
      "Spike file: /auto/data/daq/Tartufo/TAR010/sorted/TAR010c16_p_NAT.spk.mat\n",
      "rounding Trial offset spike times to even number of rasterfs bins\n",
      "342 trials totaling 2076.12 sec\n",
      "Creating trial events\n",
      "Creating trial outcome events\n",
      "Removing post-response stimuli\n",
      "Keeping 2394/2394 events that precede responses\n",
      "Fetching ins & outs...\n",
      "\n"
     ]
    },
    {
     "ename": "NameError",
     "evalue": "name 'X' is not defined",
     "output_type": "error",
     "traceback": [
      "\u001b[0;31m---------------------------------------------------------------------------\u001b[0m",
      "\u001b[0;31mNameError\u001b[0m                                 Traceback (most recent call last)",
      "\u001b[0;32m<ipython-input-4-a2cf4f6a69c6>\u001b[0m in \u001b[0;36m<module>\u001b[0;34m()\u001b[0m\n\u001b[1;32m     29\u001b[0m     \u001b[0m_\u001b[0m\u001b[0;34m,\u001b[0m\u001b[0mY\u001b[0m\u001b[0;34m,\u001b[0m\u001b[0m_\u001b[0m\u001b[0;34m,\u001b[0m\u001b[0mZ\u001b[0m\u001b[0;34m,\u001b[0m\u001b[0mt_12\u001b[0m \u001b[0;34m=\u001b[0m \u001b[0mgetInsOuts\u001b[0m\u001b[0;34m(\u001b[0m\u001b[0mcellidx\u001b[0m\u001b[0;34m,\u001b[0m\u001b[0mevent_times\u001b[0m\u001b[0;34m,\u001b[0m\u001b[0moptions\u001b[0m\u001b[0;34m[\u001b[0m\u001b[0;34m'rasterfs'\u001b[0m\u001b[0;34m]\u001b[0m\u001b[0;34m,\u001b[0m\u001b[0mstim_dict\u001b[0m\u001b[0;34m,\u001b[0m\u001b[0mspike_dict\u001b[0m\u001b[0;34m,\u001b[0m\u001b[0;32mFalse\u001b[0m\u001b[0;34m)\u001b[0m\u001b[0;34m\u001b[0m\u001b[0m\n\u001b[1;32m     30\u001b[0m \u001b[0;34m\u001b[0m\u001b[0m\n\u001b[0;32m---> 31\u001b[0;31m     \u001b[0mmodel\u001b[0m\u001b[0;34m,\u001b[0m\u001b[0mhistory\u001b[0m \u001b[0;34m=\u001b[0m \u001b[0mmk_and_fit_conv1Dmodel\u001b[0m\u001b[0;34m(\u001b[0m\u001b[0mX\u001b[0m\u001b[0;34m,\u001b[0m\u001b[0mY\u001b[0m\u001b[0;34m,\u001b[0m\u001b[0;36m1000\u001b[0m\u001b[0;34m,\u001b[0m\u001b[0;36m40\u001b[0m\u001b[0;34m,\u001b[0m\u001b[0mtime_window\u001b[0m\u001b[0;34m,\u001b[0m\u001b[0;34m[\u001b[0m\u001b[0;36m0\u001b[0m\u001b[0;34m,\u001b[0m\u001b[0;36m0.001\u001b[0m\u001b[0;34m]\u001b[0m\u001b[0;34m,\u001b[0m\u001b[0;36m0.005\u001b[0m\u001b[0;34m,\u001b[0m\u001b[0;34m'relu'\u001b[0m\u001b[0;34m,\u001b[0m\u001b[0;34m'poisson'\u001b[0m\u001b[0;34m,\u001b[0m\u001b[0;34m'SGD'\u001b[0m\u001b[0;34m,\u001b[0m\u001b[0;36m0.2\u001b[0m\u001b[0;34m,\u001b[0m\u001b[0;32mFalse\u001b[0m\u001b[0;34m)\u001b[0m\u001b[0;34m\u001b[0m\u001b[0m\n\u001b[0m\u001b[1;32m     32\u001b[0m     \u001b[0mpredicted\u001b[0m \u001b[0;34m=\u001b[0m \u001b[0mmodel\u001b[0m\u001b[0;34m.\u001b[0m\u001b[0mpredict\u001b[0m\u001b[0;34m(\u001b[0m\u001b[0mW\u001b[0m\u001b[0;34m)\u001b[0m\u001b[0;34m\u001b[0m\u001b[0m\n\u001b[1;32m     33\u001b[0m     \u001b[0mpredicted_fit\u001b[0m \u001b[0;34m=\u001b[0m \u001b[0mmodel\u001b[0m\u001b[0;34m.\u001b[0m\u001b[0mpredict\u001b[0m\u001b[0;34m(\u001b[0m\u001b[0mX\u001b[0m\u001b[0;34m)\u001b[0m\u001b[0;34m\u001b[0m\u001b[0m\n",
      "\u001b[0;31mNameError\u001b[0m: name 'X' is not defined"
     ]
    }
   ],
   "source": [
    "import os, io, re, scipy.io, time\n",
    "import numpy as np\n",
    "import pandas as pd\n",
    "import matplotlib.pyplot as plt\n",
    "import nems.utilities as nu\n",
    "import nems.db as nd\n",
    "import nems.utilities.baphy\n",
    "import sys\n",
    "sys.path.append('/home/alexis/Pers_work/STRF_computation/')\n",
    "\n",
    "from f_pre_process import getInsOuts\n",
    "from f_conv1D_model import mk_and_fit_conv1Dmodel,prediction_score_and_plots\n",
    "\n",
    "parmfilepath='/auto/data/daq/Tartufo/TAR010/TAR010c16_p_NAT.m'\n",
    "\n",
    "options={'rasterfs': 100, 'includeprestim': True, 'stimfmt': 'ozgf', 'chancount': 18, 'cellid': 'all', 'pupil': True}\n",
    "event_times, spike_dict, stim_dict, state_dict = nu.baphy.baphy_load_recording(parmfilepath,options)\n",
    "cellidx = 6\n",
    "time_window = 20\n",
    "\n",
    "#from f_pre_process import getTrainTestTimes\n",
    "#Train_times, TestTimes = getTrainTestTimes(event_times,3,24)\n",
    "#event_name = TestTimes['name'][0]\n",
    "#ff = (event_times['name']==event_name)\n",
    "#event_times\n",
    "results_pers = {}\n",
    "\n",
    "\n",
    "\n",
    "for cellidx in [cellidx]: # range(1):\n",
    "    _,Y,_,Z,t_12 = getInsOuts(cellidx,event_times,options['rasterfs'],stim_dict,spike_dict,False)\n",
    "\n",
    "    model,history = mk_and_fit_conv1Dmodel(X,Y,1000,40,time_window,[0,0.001],0.005,'relu','poisson','SGD',0.2,False)\n",
    "    predicted = model.predict(W)\n",
    "    predicted_fit = model.predict(X)\n",
    "    #Z.shape\n",
    "\n",
    "    score = prediction_score_and_plots(model,X,Y,W,Z,t_12,predicted,history,cellidx,time_window,onTest=True,fig = True)\n",
    "    score_fit = prediction_score_and_plots(model,X,Y,W,Z,t_12,predicted_fit,history,cellidx,time_window,onTest=False,fig = False)\n",
    "    results_pers[list(spike_dict.keys())[cellidx]] = (score_fit,score)\n",
    "\n",
    "save = False\n",
    "if save:\n",
    "    # SAVE MODEL\n",
    "    config = model.get_config()[0]\n",
    "    print(config)\n",
    "    save_name = config['class_name'] + '_'  + config['config']['activation'] + '_compiler-' + \\\n",
    "        loss + '-' + str(lr) + '_'+ '_ker-' + \\\n",
    "        str(config['config']['kernel_initializer']['config']['minval']) + '-' + \\\n",
    "        str(config['config']['kernel_initializer']['config']['maxval']) + '_' + \\\n",
    "        'epochs-' + str(epochs) + '_batch-' + str(batch_size) \n",
    "\n",
    "    model.save('STRF_computation/models_trained/' + save_name)"
   ]
  }
 ],
 "metadata": {
  "kernelspec": {
   "display_name": "Python 3",
   "language": "python",
   "name": "python3"
  },
  "language_info": {
   "codemirror_mode": {
    "name": "ipython",
    "version": 3
   },
   "file_extension": ".py",
   "mimetype": "text/x-python",
   "name": "python",
   "nbconvert_exporter": "python",
   "pygments_lexer": "ipython3",
   "version": "3.6.4"
  }
 },
 "nbformat": 4,
 "nbformat_minor": 2
}
